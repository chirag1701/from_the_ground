{
 "cells": [
  {
   "cell_type": "code",
   "execution_count": 121,
   "id": "c108809a-a08c-449d-b320-8ec1a1885b88",
   "metadata": {},
   "outputs": [],
   "source": [
    "import numpy as np\n",
    "import pandas as pd\n"
   ]
  },
  {
   "cell_type": "code",
   "execution_count": 122,
   "id": "5ddb331b-48f8-457d-ad43-1fe120d4aa29",
   "metadata": {},
   "outputs": [
    {
     "data": {
      "text/html": [
       "<div>\n",
       "<style scoped>\n",
       "    .dataframe tbody tr th:only-of-type {\n",
       "        vertical-align: middle;\n",
       "    }\n",
       "\n",
       "    .dataframe tbody tr th {\n",
       "        vertical-align: top;\n",
       "    }\n",
       "\n",
       "    .dataframe thead th {\n",
       "        text-align: right;\n",
       "    }\n",
       "</style>\n",
       "<table border=\"1\" class=\"dataframe\">\n",
       "  <thead>\n",
       "    <tr style=\"text-align: right;\">\n",
       "      <th></th>\n",
       "      <th>feature1</th>\n",
       "      <th>feature2</th>\n",
       "      <th>feature3</th>\n",
       "      <th>target</th>\n",
       "    </tr>\n",
       "  </thead>\n",
       "  <tbody>\n",
       "    <tr>\n",
       "      <th>52</th>\n",
       "      <td>1.221470</td>\n",
       "      <td>1.601953</td>\n",
       "      <td>2.232240</td>\n",
       "      <td>0</td>\n",
       "    </tr>\n",
       "    <tr>\n",
       "      <th>58</th>\n",
       "      <td>1.686502</td>\n",
       "      <td>-0.850042</td>\n",
       "      <td>-0.201931</td>\n",
       "      <td>0</td>\n",
       "    </tr>\n",
       "    <tr>\n",
       "      <th>54</th>\n",
       "      <td>0.263845</td>\n",
       "      <td>0.236626</td>\n",
       "      <td>-0.371323</td>\n",
       "      <td>0</td>\n",
       "    </tr>\n",
       "    <tr>\n",
       "      <th>3</th>\n",
       "      <td>-0.448639</td>\n",
       "      <td>1.849688</td>\n",
       "      <td>-1.539650</td>\n",
       "      <td>1</td>\n",
       "    </tr>\n",
       "    <tr>\n",
       "      <th>6</th>\n",
       "      <td>-1.843051</td>\n",
       "      <td>1.920818</td>\n",
       "      <td>-0.571038</td>\n",
       "      <td>1</td>\n",
       "    </tr>\n",
       "  </tbody>\n",
       "</table>\n",
       "</div>"
      ],
      "text/plain": [
       "    feature1  feature2  feature3  target\n",
       "52  1.221470  1.601953  2.232240       0\n",
       "58  1.686502 -0.850042 -0.201931       0\n",
       "54  0.263845  0.236626 -0.371323       0\n",
       "3  -0.448639  1.849688 -1.539650       1\n",
       "6  -1.843051  1.920818 -0.571038       1"
      ]
     },
     "execution_count": 122,
     "metadata": {},
     "output_type": "execute_result"
    }
   ],
   "source": [
    "mu_vec1 = np.array([0,0,0])\n",
    "cov_mat1 = np.array([[1,0,0],[0,1,0],[0,0,1]])\n",
    "class1_sample = np.random.multivariate_normal(mu_vec1,cov_mat1,30)\n",
    "df = pd.DataFrame(class1_sample,columns = ['feature1','feature2','feature3'])\n",
    "df['target'] = 1\n",
    "mu_vec2 = np.array([1,1,1])\n",
    "cov_mat2 = np.array([[1,0,0],[0,1,0],[0,0,1]])\n",
    "class2_sample = np.random.multivariate_normal(mu_vec2,cov_mat2,30)\n",
    "df1 = pd.DataFrame(class2_sample,columns = ['feature1','feature2','feature3'])\n",
    "df1['target'] = 0\n",
    "df = pd.concat([df,df1],ignore_index=True)\n",
    "df = df.sample(frac=1)  # sample-select a random subset of data, frac1 = whole dataset\n",
    "df.head()"
   ]
  },
  {
   "cell_type": "code",
   "execution_count": 123,
   "id": "57220157-0e95-43d7-9b9c-f52da19abb3f",
   "metadata": {},
   "outputs": [],
   "source": [
    "import plotly.express as px\n",
    "fig = px.scatter_3d(df, x = df['feature1'], y = df['feature2'],\n",
    "                    z = df['feature3'], color = df['target'].astype('str'))\n",
    "fig.update_traces(marker=dict(size=12,line=dict(width=2,color = 'DarkSlateGrey')),\n",
    "                  selector = dict(mode='markers'))\n",
    "fig.write_html(\"scatter_3d_plot.html\")  # saved"
   ]
  },
  {
   "cell_type": "markdown",
   "id": "b75520fe-ff1a-41ef-a089-e81cca3fe753",
   "metadata": {},
   "source": [
    "# PCA"
   ]
  },
  {
   "cell_type": "code",
   "execution_count": 35,
   "id": "74eff506-d521-47fa-a86c-fe6786e7ef73",
   "metadata": {},
   "outputs": [],
   "source": [
    "from sklearn.preprocessing import StandardScaler\n",
    "scaler = StandardScaler()"
   ]
  },
  {
   "cell_type": "code",
   "execution_count": 99,
   "id": "49b53235-eed3-4872-954c-965119e21585",
   "metadata": {},
   "outputs": [
    {
     "name": "stdout",
     "output_type": "stream",
     "text": [
      "2.0816681711721685e-15\n"
     ]
    }
   ],
   "source": [
    "# Mean centering\n",
    "df.iloc[:,0:3] = scaler.fit_transform(df.iloc[:,0:3])\n",
    "print(df.iloc[:,2].sum()) # this sum is not zero because of \n",
    "# rounding in the process of making std dev 1 "
   ]
  },
  {
   "cell_type": "code",
   "execution_count": 108,
   "id": "5416370f-30dd-4401-b457-2f29be8c890a",
   "metadata": {},
   "outputs": [
    {
     "name": "stdout",
     "output_type": "stream",
     "text": [
      "[[1.01694915 0.52643911 0.33939696]\n",
      " [0.52643911 1.01694915 0.28346683]\n",
      " [0.33939696 0.28346683 1.01694915]]\n"
     ]
    }
   ],
   "source": [
    "# Finding the covar matrix\n",
    "cov_matrix = np.cov([df.iloc[:,0],df.iloc[:,1],df.iloc[:,2]])\n",
    "print(cov_matrix)"
   ]
  },
  {
   "cell_type": "code",
   "execution_count": 109,
   "id": "222d7291-750f-4003-a3a5-b4a71fe3b7e7",
   "metadata": {},
   "outputs": [],
   "source": [
    "eigen_values, eigen_vectors = np.linalg.eig(cov_matrix)"
   ]
  },
  {
   "cell_type": "code",
   "execution_count": 110,
   "id": "35020eaf-34b6-4c40-a5c9-d85d6c8c3aa0",
   "metadata": {},
   "outputs": [
    {
     "data": {
      "text/plain": [
       "array([1.79355401, 0.48600889, 0.77128456])"
      ]
     },
     "execution_count": 110,
     "metadata": {},
     "output_type": "execute_result"
    }
   ],
   "source": [
    "eigen_values"
   ]
  },
  {
   "cell_type": "code",
   "execution_count": 111,
   "id": "52dd98a4-4a77-4d5f-b8f4-deb2d1903859",
   "metadata": {},
   "outputs": [
    {
     "data": {
      "text/plain": [
       "array([[-0.62537545, -0.73506266, -0.26189393],\n",
       "       [-0.60417871,  0.66852332, -0.43364117],\n",
       "       [-0.49383563,  0.1129578 ,  0.86218728]])"
      ]
     },
     "execution_count": 111,
     "metadata": {},
     "output_type": "execute_result"
    }
   ],
   "source": [
    "eigen_vectors"
   ]
  },
  {
   "cell_type": "code",
   "execution_count": 112,
   "id": "6935689b-10a8-45a7-95a3-fffb612830f6",
   "metadata": {},
   "outputs": [],
   "source": [
    "minima = min(eigen_values)\n",
    "idx_minima = np.argmin(eigen_values)"
   ]
  },
  {
   "cell_type": "code",
   "execution_count": 113,
   "id": "6d0e42e5-656b-4778-809b-739ea7cd83c4",
   "metadata": {},
   "outputs": [],
   "source": [
    "pc = np.delete(eigen_vectors, idx_minima , axis=0)"
   ]
  },
  {
   "cell_type": "code",
   "execution_count": 114,
   "id": "5c665230-fe3a-4f7e-8181-cf18f6859466",
   "metadata": {},
   "outputs": [
    {
     "data": {
      "text/plain": [
       "array([[-0.62537545, -0.73506266, -0.26189393],\n",
       "       [-0.49383563,  0.1129578 ,  0.86218728]])"
      ]
     },
     "execution_count": 114,
     "metadata": {},
     "output_type": "execute_result"
    }
   ],
   "source": [
    "pc"
   ]
  },
  {
   "cell_type": "code",
   "execution_count": 115,
   "id": "ea8607b9-fad4-4a85-b1a4-f5b8f810fff9",
   "metadata": {},
   "outputs": [],
   "source": [
    "transformed_df = np.dot(df.iloc[:,0:3],pc.T)\n",
    "# 40,3 - 3,2  = 40,2"
   ]
  },
  {
   "cell_type": "code",
   "execution_count": 117,
   "id": "9674a92f-4ef3-4e76-a7d8-18bf8b72e79d",
   "metadata": {},
   "outputs": [
    {
     "data": {
      "text/html": [
       "<div>\n",
       "<style scoped>\n",
       "    .dataframe tbody tr th:only-of-type {\n",
       "        vertical-align: middle;\n",
       "    }\n",
       "\n",
       "    .dataframe tbody tr th {\n",
       "        vertical-align: top;\n",
       "    }\n",
       "\n",
       "    .dataframe thead th {\n",
       "        text-align: right;\n",
       "    }\n",
       "</style>\n",
       "<table border=\"1\" class=\"dataframe\">\n",
       "  <thead>\n",
       "    <tr style=\"text-align: right;\">\n",
       "      <th></th>\n",
       "      <th>PC1</th>\n",
       "      <th>PC2</th>\n",
       "      <th>target</th>\n",
       "    </tr>\n",
       "  </thead>\n",
       "  <tbody>\n",
       "    <tr>\n",
       "      <th>0</th>\n",
       "      <td>-0.465125</td>\n",
       "      <td>0.886519</td>\n",
       "      <td>0</td>\n",
       "    </tr>\n",
       "    <tr>\n",
       "      <th>1</th>\n",
       "      <td>0.893776</td>\n",
       "      <td>-1.787454</td>\n",
       "      <td>1</td>\n",
       "    </tr>\n",
       "    <tr>\n",
       "      <th>2</th>\n",
       "      <td>0.624183</td>\n",
       "      <td>-0.176960</td>\n",
       "      <td>1</td>\n",
       "    </tr>\n",
       "    <tr>\n",
       "      <th>3</th>\n",
       "      <td>0.408683</td>\n",
       "      <td>-0.193201</td>\n",
       "      <td>1</td>\n",
       "    </tr>\n",
       "    <tr>\n",
       "      <th>4</th>\n",
       "      <td>0.292514</td>\n",
       "      <td>0.541399</td>\n",
       "      <td>1</td>\n",
       "    </tr>\n",
       "  </tbody>\n",
       "</table>\n",
       "</div>"
      ],
      "text/plain": [
       "        PC1       PC2  target\n",
       "0 -0.465125  0.886519       0\n",
       "1  0.893776 -1.787454       1\n",
       "2  0.624183 -0.176960       1\n",
       "3  0.408683 -0.193201       1\n",
       "4  0.292514  0.541399       1"
      ]
     },
     "execution_count": 117,
     "metadata": {},
     "output_type": "execute_result"
    }
   ],
   "source": [
    "new_df = pd.DataFrame(transformed_df,columns=['PC1','PC2'])\n",
    "new_df['target']=df['target'].values\n",
    "new_df.head()"
   ]
  },
  {
   "cell_type": "code",
   "execution_count": 120,
   "id": "31a6a2a6-ac28-4bc7-b170-5b2de3071143",
   "metadata": {},
   "outputs": [],
   "source": [
    "new_df['target'] = new_df['target'].astype('str')\n",
    "fig = px.scatter(new_df, x = new_df['PC1'], y = new_df['PC2'], color = new_df['target'],color_discrete_sequence=px.colors.qualitative.G10)\n",
    "fig.update_traces(marker=dict(size=12,line=dict(width=2,color = 'DarkSlateGrey')),\n",
    "                  selector = dict(mode='markers'))\n",
    "fig.write_html(\"scatter_2d_plot.html\")  # saved"
   ]
  },
  {
   "cell_type": "code",
   "execution_count": null,
   "id": "15a1ba2c-ca43-4e74-8a23-b16fb31ba460",
   "metadata": {},
   "outputs": [],
   "source": []
  }
 ],
 "metadata": {
  "kernelspec": {
   "display_name": "Python 3 (ipykernel)",
   "language": "python",
   "name": "python3"
  },
  "language_info": {
   "codemirror_mode": {
    "name": "ipython",
    "version": 3
   },
   "file_extension": ".py",
   "mimetype": "text/x-python",
   "name": "python",
   "nbconvert_exporter": "python",
   "pygments_lexer": "ipython3",
   "version": "3.10.12"
  }
 },
 "nbformat": 4,
 "nbformat_minor": 5
}
